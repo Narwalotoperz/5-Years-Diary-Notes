{
 "cells": [
  {
   "cell_type": "markdown",
   "id": "d324b421",
   "metadata": {},
   "source": [
    "## Example of an input file - creation"
   ]
  },
  {
   "cell_type": "code",
   "execution_count": 7,
   "id": "c136a3c8",
   "metadata": {},
   "outputs": [],
   "source": [
    "from datetime import datetime as dt\n",
    "import pandas as pd\n",
    "import random\n",
    "\n",
    "start_date = \"2020-01-01\"\n",
    "end_date = \"2025-01-01\"\n",
    "\n",
    "date_list = pd.date_range(start=start_date,end=end_date)\n",
    "\n",
    "\n",
    "notes = [\"Lorem ipsum dolor sit amet, consectetur adipiscing elit. Nunc pretium ligula nec orci posuere, consequat semper nisl dapibus. Suspendisse nec condimentum velit. Morbi sem nisi, eleifend nec dictum ut, elementum a magna. Ut commodo malesuada hendrerit. Pellentesque nec elementum ipsum. Etiam massa tortor, porttitor et urna a, interdum sollicitudin nulla. Cras maximus nisi vel turpis lobortis porta. Pellentesque habitant morbi tristique senectus et netus et malesuada fames ac turpis egestas. Ut quis lobortis elit. Duis sit amet faucibus sapien.\",\n",
    "\"Morbi luctus porta mauris. In maximus lectus justo, luctus aliquet tellus posuere in. Sed vel sodales massa. Nulla dictum gravida eleifend. Nullam sed nisl nulla. Morbi faucibus consequat eros sit amet lacinia. Suspendisse potenti. Nunc dictum purus nec dui egestas, et pellentesque augue tempus. Ut dapibus leo arcu, vel tempor dolor rhoncus tincidunt. Fusce orci erat, aliquam vel augue eu, tempus semper libero. Proin non tincidunt augue. Aliquam aliquam placerat ligula, at tristique sem malesuada id. Pellentesque odio nunc, tempus nec dui ac, semper pellentesque erat. Vestibulum vestibulum dui a nulla egestas rhoncus.\",\n",
    "\"Aliquam tincidunt auctor augue quis accumsan. Ut lobortis eros vitae semper dictum. Etiam feugiat commodo tempor. Nam id enim dignissim, tempor leo finibus, faucibus sem. Morbi ullamcorper, lorem pharetra imperdiet venenatis, neque magna semper elit, eget commodo mauris dui nec mauris. Vivamus in porta est, non rutrum tortor. Vestibulum pharetra ipsum vitae vulputate eleifend. Suspendisse nisi est, sagittis quis tincidunt et, placerat quis metus. Suspendisse a mollis sapien, et auctor ipsum. Pellentesque vitae mattis mi. Nunc ac consequat mi. Curabitur porttitor dapibus augue et posuere. Morbi varius velit sed nulla laoreet, in mollis arcu pellentesque. Suspendisse vulputate suscipit arcu, ac faucibus nisl maximus nec. Integer at neque non lectus sollicitudin feugiat nec vel purus. Nam sed arcu ac dolor varius iaculis.\",\n",
    "\"Nunc iaculis massa vitae placerat ultrices. Sed facilisis laoreet lacus, at porttitor diam tincidunt at. Mauris porta ultricies magna molestie molestie. Etiam mattis orci vitae justo interdum semper. Praesent consequat semper magna vel dapibus. Etiam elementum diam eget semper lacinia. Etiam congue magna sapien, eget pretium mauris egestas nec. Nulla maximus metus id lorem placerat iaculis. Aenean nec nisi id urna viverra imperdiet eget molestie neque. Mauris lectus metus, euismod id vehicula sollicitudin, pharetra nec orci. Vestibulum porttitor faucibus feugiat. Mauris faucibus lobortis faucibus. Suspendisse ultrices scelerisque tellus, et efficitur enim dictum sit amet. Sed volutpat bibendum orci ac bibendum. Suspendisse porta, nibh a volutpat volutpat, libero lorem egestas felis, non eleifend felis risus ut est.\",\n",
    "\"Praesent sed felis hendrerit, fringilla lacus ut, sagittis ligula. Duis quis quam ipsum. Mauris cursus eros vel felis auctor facilisis sit amet sed risus. Aenean et erat in dui fringilla sagittis eget eu odio. Lorem ipsum dolor sit amet, consectetur adipiscing elit. Integer pellentesque, est eget tristique suscipit, mauris urna tristique risus, vitae feugiat ligula purus at mi. Suspendisse scelerisque libero est, in vulputate dolor vulputate quis.\\nNam id dui luctus, finibus sapien sed, sollicitudin dolor. Pellentesque lobortis sapien sed nisi placerat, eu convallis augue congue. Nullam ut molestie odio, vitae dignissim metus. Cras in nisi sapien. Praesent vel maximus metus, at scelerisque quam.\"]\n",
    "\n",
    "\n",
    "with open(\"diary_file.txt\", \"w\") as f:\n",
    "    for date_item in date_list:\n",
    "        date_str = date_item.strftime(\"%d.%m.%Yr.\")  # format: DD.MM.YYYYr.\n",
    "        random_note = random.choice(notes)\n",
    "        f.write(f\"{date_str}\\n{random_note}\\n\\n\")  "
   ]
  },
  {
   "cell_type": "code",
   "execution_count": null,
   "id": "7815bb1b",
   "metadata": {},
   "outputs": [],
   "source": []
  }
 ],
 "metadata": {
  "kernelspec": {
   "display_name": "base",
   "language": "python",
   "name": "python3"
  },
  "language_info": {
   "codemirror_mode": {
    "name": "ipython",
    "version": 3
   },
   "file_extension": ".py",
   "mimetype": "text/x-python",
   "name": "python",
   "nbconvert_exporter": "python",
   "pygments_lexer": "ipython3",
   "version": "3.11.5"
  }
 },
 "nbformat": 4,
 "nbformat_minor": 5
}
